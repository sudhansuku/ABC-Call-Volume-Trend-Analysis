{
 "cells": [
  {
   "cell_type": "markdown",
   "id": "2e6d23da",
   "metadata": {},
   "source": [
    "# ABC Call Volume Trend Analysis"
   ]
  },
  {
   "cell_type": "code",
   "execution_count": 1,
   "id": "f010dfb2",
   "metadata": {},
   "outputs": [],
   "source": [
    "# imporing required libraries\n",
    "import numpy as np, pandas as pd\n",
    "import matplotlib.pyplot as plt, seaborn as sns\n",
    "\n",
    "import warnings \n",
    "warnings.filterwarnings(\"ignore\")"
   ]
  },
  {
   "cell_type": "markdown",
   "id": "330971bb",
   "metadata": {},
   "source": [
    "# 1. READING AND UNDERSTANDING DATASET"
   ]
  },
  {
   "cell_type": "code",
   "execution_count": 98,
   "id": "4129971a",
   "metadata": {},
   "outputs": [
    {
     "data": {
      "text/html": [
       "<div>\n",
       "<style scoped>\n",
       "    .dataframe tbody tr th:only-of-type {\n",
       "        vertical-align: middle;\n",
       "    }\n",
       "\n",
       "    .dataframe tbody tr th {\n",
       "        vertical-align: top;\n",
       "    }\n",
       "\n",
       "    .dataframe thead th {\n",
       "        text-align: right;\n",
       "    }\n",
       "</style>\n",
       "<table border=\"1\" class=\"dataframe\">\n",
       "  <thead>\n",
       "    <tr style=\"text-align: right;\">\n",
       "      <th></th>\n",
       "      <th>Agent_Name</th>\n",
       "      <th>Agent_ID</th>\n",
       "      <th>Customer_Phone_No</th>\n",
       "      <th>Queue_Time(Secs)</th>\n",
       "      <th>Date_&amp;_Time</th>\n",
       "      <th>Time</th>\n",
       "      <th>Time_Bucket</th>\n",
       "      <th>Duration(hh:mm:ss)</th>\n",
       "      <th>Call_Seconds (s)</th>\n",
       "      <th>Call_Status</th>\n",
       "      <th>Wrapped _By</th>\n",
       "      <th>Ringing</th>\n",
       "      <th>IVR _Duration</th>\n",
       "    </tr>\n",
       "  </thead>\n",
       "  <tbody>\n",
       "    <tr>\n",
       "      <th>0</th>\n",
       "      <td>Executives 42</td>\n",
       "      <td>1000042.0</td>\n",
       "      <td>98502XXXXX</td>\n",
       "      <td>2</td>\n",
       "      <td>1/1/2022</td>\n",
       "      <td>9.0</td>\n",
       "      <td>9_10</td>\n",
       "      <td>0:01:36</td>\n",
       "      <td>96.0</td>\n",
       "      <td>answered</td>\n",
       "      <td>Agent</td>\n",
       "      <td>YES</td>\n",
       "      <td>0:00:16</td>\n",
       "    </tr>\n",
       "    <tr>\n",
       "      <th>1</th>\n",
       "      <td>Executives 4</td>\n",
       "      <td>1000004.0</td>\n",
       "      <td>80595XXXXX</td>\n",
       "      <td>0</td>\n",
       "      <td>1/1/2022</td>\n",
       "      <td>9.0</td>\n",
       "      <td>9_10</td>\n",
       "      <td>0:02:20</td>\n",
       "      <td>140.0</td>\n",
       "      <td>answered</td>\n",
       "      <td>Agent</td>\n",
       "      <td>YES</td>\n",
       "      <td>0:00:26</td>\n",
       "    </tr>\n",
       "    <tr>\n",
       "      <th>2</th>\n",
       "      <td>Executives 65</td>\n",
       "      <td>1000065.0</td>\n",
       "      <td>70202XXXXX</td>\n",
       "      <td>0</td>\n",
       "      <td>1/1/2022</td>\n",
       "      <td>9.0</td>\n",
       "      <td>9_10</td>\n",
       "      <td>0:01:25</td>\n",
       "      <td>85.0</td>\n",
       "      <td>answered</td>\n",
       "      <td>AutoWrapped</td>\n",
       "      <td>YES</td>\n",
       "      <td>0:00:16</td>\n",
       "    </tr>\n",
       "    <tr>\n",
       "      <th>3</th>\n",
       "      <td>Executives 55</td>\n",
       "      <td>1000055.0</td>\n",
       "      <td>96104XXXXX</td>\n",
       "      <td>1</td>\n",
       "      <td>1/1/2022</td>\n",
       "      <td>9.0</td>\n",
       "      <td>9_10</td>\n",
       "      <td>0:01:31</td>\n",
       "      <td>91.0</td>\n",
       "      <td>answered</td>\n",
       "      <td>Agent</td>\n",
       "      <td>YES</td>\n",
       "      <td>0:00:25</td>\n",
       "    </tr>\n",
       "    <tr>\n",
       "      <th>4</th>\n",
       "      <td>Executives 21</td>\n",
       "      <td>1000021.0</td>\n",
       "      <td>82001XXXXX</td>\n",
       "      <td>0</td>\n",
       "      <td>1/1/2022</td>\n",
       "      <td>9.0</td>\n",
       "      <td>9_10</td>\n",
       "      <td>0:02:45</td>\n",
       "      <td>165.0</td>\n",
       "      <td>answered</td>\n",
       "      <td>Agent</td>\n",
       "      <td>YES</td>\n",
       "      <td>0:00:23</td>\n",
       "    </tr>\n",
       "  </tbody>\n",
       "</table>\n",
       "</div>"
      ],
      "text/plain": [
       "      Agent_Name   Agent_ID Customer_Phone_No  Queue_Time(Secs) Date_&_Time  \\\n",
       "0  Executives 42  1000042.0        98502XXXXX                 2    1/1/2022   \n",
       "1   Executives 4  1000004.0        80595XXXXX                 0    1/1/2022   \n",
       "2  Executives 65  1000065.0        70202XXXXX                 0    1/1/2022   \n",
       "3  Executives 55  1000055.0        96104XXXXX                 1    1/1/2022   \n",
       "4  Executives 21  1000021.0        82001XXXXX                 0    1/1/2022   \n",
       "\n",
       "   Time Time_Bucket Duration(hh:mm:ss)  Call_Seconds (s) Call_Status  \\\n",
       "0   9.0        9_10            0:01:36              96.0    answered   \n",
       "1   9.0        9_10            0:02:20             140.0    answered   \n",
       "2   9.0        9_10            0:01:25              85.0    answered   \n",
       "3   9.0        9_10            0:01:31              91.0    answered   \n",
       "4   9.0        9_10            0:02:45             165.0    answered   \n",
       "\n",
       "   Wrapped _By Ringing IVR _Duration  \n",
       "0        Agent     YES       0:00:16  \n",
       "1        Agent     YES       0:00:26  \n",
       "2  AutoWrapped     YES       0:00:16  \n",
       "3        Agent     YES       0:00:25  \n",
       "4        Agent     YES       0:00:23  "
      ]
     },
     "execution_count": 98,
     "metadata": {},
     "output_type": "execute_result"
    }
   ],
   "source": [
    "# importing data\n",
    "call_df = pd.read_csv(r\"C:\\Users\\91810\\Downloads\\Call_Volume_Trend_Analysis_Project_9.xlsx - Call_Data.csv\")\n",
    "call_df.head()"
   ]
  },
  {
   "cell_type": "code",
   "execution_count": 99,
   "id": "7a574464",
   "metadata": {},
   "outputs": [
    {
     "data": {
      "text/plain": [
       "(117988, 13)"
      ]
     },
     "execution_count": 99,
     "metadata": {},
     "output_type": "execute_result"
    }
   ],
   "source": [
    "# shape of the call df\n",
    "call_df.shape"
   ]
  },
  {
   "cell_type": "code",
   "execution_count": 100,
   "id": "f475a321",
   "metadata": {},
   "outputs": [
    {
     "name": "stdout",
     "output_type": "stream",
     "text": [
      "<class 'pandas.core.frame.DataFrame'>\n",
      "RangeIndex: 117988 entries, 0 to 117987\n",
      "Data columns (total 13 columns):\n",
      " #   Column              Non-Null Count   Dtype  \n",
      "---  ------              --------------   -----  \n",
      " 0   Agent_Name          83790 non-null   object \n",
      " 1   Agent_ID            83790 non-null   float64\n",
      " 2   Customer_Phone_No   117988 non-null  object \n",
      " 3   Queue_Time(Secs)    117988 non-null  int64  \n",
      " 4   Date_&_Time         117988 non-null  object \n",
      " 5   Time                117988 non-null  float64\n",
      " 6   Time_Bucket         117988 non-null  object \n",
      " 7   Duration(hh:mm:ss)  117988 non-null  object \n",
      " 8   Call_Seconds (s)    117988 non-null  float64\n",
      " 9   Call_Status         117988 non-null  object \n",
      " 10  Wrapped _By         70111 non-null   object \n",
      " 11  Ringing             117988 non-null  object \n",
      " 12  IVR _Duration       117988 non-null  object \n",
      "dtypes: float64(3), int64(1), object(9)\n",
      "memory usage: 11.7+ MB\n"
     ]
    }
   ],
   "source": [
    "# data types \n",
    "call_df.info()"
   ]
  },
  {
   "cell_type": "code",
   "execution_count": 116,
   "id": "1566f77f",
   "metadata": {},
   "outputs": [
    {
     "data": {
      "text/plain": [
       "0   2022-01-01\n",
       "1   2022-01-01\n",
       "2   2022-01-01\n",
       "3   2022-01-01\n",
       "4   2022-01-01\n",
       "Name: Date_&_Time, dtype: datetime64[ns]"
      ]
     },
     "execution_count": 116,
     "metadata": {},
     "output_type": "execute_result"
    }
   ],
   "source": [
    "# converting date&time(mm-dd-YY)  column to datetime format\n",
    "call_df[\"Date_&_Time\"] = pd.to_datetime(call_df[\"Date_&_Time\"], errors='coerce')\n",
    "call_df[\"Date_&_Time\"].head()"
   ]
  },
  {
   "cell_type": "code",
   "execution_count": 117,
   "id": "f45791c0",
   "metadata": {},
   "outputs": [
    {
     "name": "stdout",
     "output_type": "stream",
     "text": [
      "datetime64[ns]\n"
     ]
    }
   ],
   "source": [
    "print(call_df[\"Date_&_Time\"].dtype)"
   ]
  },
  {
   "cell_type": "markdown",
   "id": "7cec677a",
   "metadata": {},
   "source": [
    "# 2. DATA CLEANING"
   ]
  },
  {
   "cell_type": "markdown",
   "id": "2b53876e",
   "metadata": {},
   "source": [
    "## Handling missing values"
   ]
  },
  {
   "cell_type": "code",
   "execution_count": 120,
   "id": "496aa82f",
   "metadata": {},
   "outputs": [
    {
     "data": {
      "text/plain": [
       "Agent_Name            28.98\n",
       "Agent_ID              28.98\n",
       "Customer_Phone_No      0.00\n",
       "Queue_Time(Secs)       0.00\n",
       "Date_&_Time            0.00\n",
       "Time                   0.00\n",
       "Time_Bucket            0.00\n",
       "Duration(hh:mm:ss)     0.00\n",
       "Call_Seconds (s)       0.00\n",
       "Call_Status            0.00\n",
       "Wrapped _By           40.58\n",
       "Ringing                0.00\n",
       "IVR _Duration          0.00\n",
       "dtype: float64"
      ]
     },
     "execution_count": 120,
     "metadata": {},
     "output_type": "execute_result"
    }
   ],
   "source": [
    "# looking % of missing values\n",
    "round(call_df.isnull().sum()/call_df.shape[0]*100,2)"
   ]
  },
  {
   "cell_type": "markdown",
   "id": "93a67b52",
   "metadata": {},
   "source": [
    "- Agent_Name **(28%)**,  Agent_ID **(28%)**,  Wrapped_By **(40%)** columns have null rows.       "
   ]
  },
  {
   "cell_type": "code",
   "execution_count": 130,
   "id": "99d925cf",
   "metadata": {},
   "outputs": [
    {
     "data": {
      "text/html": [
       "<div>\n",
       "<style scoped>\n",
       "    .dataframe tbody tr th:only-of-type {\n",
       "        vertical-align: middle;\n",
       "    }\n",
       "\n",
       "    .dataframe tbody tr th {\n",
       "        vertical-align: top;\n",
       "    }\n",
       "\n",
       "    .dataframe thead th {\n",
       "        text-align: right;\n",
       "    }\n",
       "</style>\n",
       "<table border=\"1\" class=\"dataframe\">\n",
       "  <thead>\n",
       "    <tr style=\"text-align: right;\">\n",
       "      <th></th>\n",
       "      <th>Agent_ID</th>\n",
       "      <th>Queue_Time(Secs)</th>\n",
       "      <th>Time</th>\n",
       "      <th>Call_Seconds (s)</th>\n",
       "    </tr>\n",
       "  </thead>\n",
       "  <tbody>\n",
       "    <tr>\n",
       "      <th>count</th>\n",
       "      <td>0.0</td>\n",
       "      <td>34198.000000</td>\n",
       "      <td>34198.000000</td>\n",
       "      <td>34198.0</td>\n",
       "    </tr>\n",
       "    <tr>\n",
       "      <th>mean</th>\n",
       "      <td>NaN</td>\n",
       "      <td>92.133604</td>\n",
       "      <td>12.639043</td>\n",
       "      <td>0.0</td>\n",
       "    </tr>\n",
       "    <tr>\n",
       "      <th>std</th>\n",
       "      <td>NaN</td>\n",
       "      <td>39.184876</td>\n",
       "      <td>3.469485</td>\n",
       "      <td>0.0</td>\n",
       "    </tr>\n",
       "    <tr>\n",
       "      <th>min</th>\n",
       "      <td>NaN</td>\n",
       "      <td>0.000000</td>\n",
       "      <td>9.000000</td>\n",
       "      <td>0.0</td>\n",
       "    </tr>\n",
       "    <tr>\n",
       "      <th>25%</th>\n",
       "      <td>NaN</td>\n",
       "      <td>63.000000</td>\n",
       "      <td>10.000000</td>\n",
       "      <td>0.0</td>\n",
       "    </tr>\n",
       "    <tr>\n",
       "      <th>50%</th>\n",
       "      <td>NaN</td>\n",
       "      <td>120.000000</td>\n",
       "      <td>11.000000</td>\n",
       "      <td>0.0</td>\n",
       "    </tr>\n",
       "    <tr>\n",
       "      <th>75%</th>\n",
       "      <td>NaN</td>\n",
       "      <td>120.000000</td>\n",
       "      <td>14.000000</td>\n",
       "      <td>0.0</td>\n",
       "    </tr>\n",
       "    <tr>\n",
       "      <th>max</th>\n",
       "      <td>NaN</td>\n",
       "      <td>120.000000</td>\n",
       "      <td>21.000000</td>\n",
       "      <td>0.0</td>\n",
       "    </tr>\n",
       "  </tbody>\n",
       "</table>\n",
       "</div>"
      ],
      "text/plain": [
       "       Agent_ID  Queue_Time(Secs)          Time  Call_Seconds (s)\n",
       "count       0.0      34198.000000  34198.000000           34198.0\n",
       "mean        NaN         92.133604     12.639043               0.0\n",
       "std         NaN         39.184876      3.469485               0.0\n",
       "min         NaN          0.000000      9.000000               0.0\n",
       "25%         NaN         63.000000     10.000000               0.0\n",
       "50%         NaN        120.000000     11.000000               0.0\n",
       "75%         NaN        120.000000     14.000000               0.0\n",
       "max         NaN        120.000000     21.000000               0.0"
      ]
     },
     "execution_count": 130,
     "metadata": {},
     "output_type": "execute_result"
    }
   ],
   "source": [
    "# looking reason for null values in Agent_Name and Agent_ID columns\n",
    "call_df[call_df[\"Agent_Name\"].isnull()].describe()"
   ]
  },
  {
   "cell_type": "markdown",
   "id": "5d3592bb",
   "metadata": {},
   "source": [
    "- all null rows of \"Agent_Name\" have **null \"Agent_Id\"** and **call duration is 0** which is as expected"
   ]
  },
  {
   "cell_type": "code",
   "execution_count": 132,
   "id": "1fdc6a84",
   "metadata": {},
   "outputs": [
    {
     "data": {
      "text/html": [
       "<div>\n",
       "<style scoped>\n",
       "    .dataframe tbody tr th:only-of-type {\n",
       "        vertical-align: middle;\n",
       "    }\n",
       "\n",
       "    .dataframe tbody tr th {\n",
       "        vertical-align: top;\n",
       "    }\n",
       "\n",
       "    .dataframe thead th {\n",
       "        text-align: right;\n",
       "    }\n",
       "</style>\n",
       "<table border=\"1\" class=\"dataframe\">\n",
       "  <thead>\n",
       "    <tr style=\"text-align: right;\">\n",
       "      <th></th>\n",
       "      <th>Agent_Name</th>\n",
       "      <th>Customer_Phone_No</th>\n",
       "      <th>Time_Bucket</th>\n",
       "      <th>Duration(hh:mm:ss)</th>\n",
       "      <th>Call_Status</th>\n",
       "      <th>Wrapped _By</th>\n",
       "      <th>Ringing</th>\n",
       "      <th>IVR _Duration</th>\n",
       "    </tr>\n",
       "  </thead>\n",
       "  <tbody>\n",
       "    <tr>\n",
       "      <th>count</th>\n",
       "      <td>0</td>\n",
       "      <td>34198</td>\n",
       "      <td>34198</td>\n",
       "      <td>34198</td>\n",
       "      <td>34198</td>\n",
       "      <td>0</td>\n",
       "      <td>34198</td>\n",
       "      <td>34198</td>\n",
       "    </tr>\n",
       "    <tr>\n",
       "      <th>unique</th>\n",
       "      <td>0</td>\n",
       "      <td>10674</td>\n",
       "      <td>12</td>\n",
       "      <td>1</td>\n",
       "      <td>1</td>\n",
       "      <td>0</td>\n",
       "      <td>1</td>\n",
       "      <td>127</td>\n",
       "    </tr>\n",
       "    <tr>\n",
       "      <th>top</th>\n",
       "      <td>NaN</td>\n",
       "      <td>96348XXXXX</td>\n",
       "      <td>10_11</td>\n",
       "      <td>0:00:00</td>\n",
       "      <td>abandon</td>\n",
       "      <td>NaN</td>\n",
       "      <td>YES</td>\n",
       "      <td>0:00:14</td>\n",
       "    </tr>\n",
       "    <tr>\n",
       "      <th>freq</th>\n",
       "      <td>NaN</td>\n",
       "      <td>49</td>\n",
       "      <td>6908</td>\n",
       "      <td>34198</td>\n",
       "      <td>34198</td>\n",
       "      <td>NaN</td>\n",
       "      <td>34198</td>\n",
       "      <td>4378</td>\n",
       "    </tr>\n",
       "  </tbody>\n",
       "</table>\n",
       "</div>"
      ],
      "text/plain": [
       "       Agent_Name Customer_Phone_No Time_Bucket Duration(hh:mm:ss)  \\\n",
       "count           0             34198       34198              34198   \n",
       "unique          0             10674          12                  1   \n",
       "top           NaN        96348XXXXX       10_11            0:00:00   \n",
       "freq          NaN                49        6908              34198   \n",
       "\n",
       "       Call_Status Wrapped _By Ringing IVR _Duration  \n",
       "count        34198           0   34198         34198  \n",
       "unique           1           0       1           127  \n",
       "top        abandon         NaN     YES       0:00:14  \n",
       "freq         34198         NaN   34198          4378  "
      ]
     },
     "execution_count": 132,
     "metadata": {},
     "output_type": "execute_result"
    }
   ],
   "source": [
    "call_df[call_df[\"Agent_Name\"].isnull()].describe(include=[\"object\"])"
   ]
  },
  {
   "cell_type": "markdown",
   "id": "e326cdba",
   "metadata": {},
   "source": [
    "- all rows with null Agent Name have **call_status \"abandon\"**\n",
    "- thus keeping all these values as it is, as it will not create any problem in our analysis."
   ]
  },
  {
   "cell_type": "code",
   "execution_count": 142,
   "id": "f44cc2da",
   "metadata": {},
   "outputs": [
    {
     "data": {
      "text/plain": [
       "(117988, 12)"
      ]
     },
     "execution_count": 142,
     "metadata": {},
     "output_type": "execute_result"
    }
   ],
   "source": [
    "# droping \"wrpped_by\" column having 40% null rows and it is also no use in our analysis\n",
    "call_df = call_df.drop(\"Wrapped _By\",axis=1)\n",
    "call_df.shape"
   ]
  },
  {
   "cell_type": "markdown",
   "id": "9ec1cdc3",
   "metadata": {},
   "source": [
    "## Handling Outliers"
   ]
  },
  {
   "cell_type": "code",
   "execution_count": 143,
   "id": "0b2fa5e7",
   "metadata": {},
   "outputs": [
    {
     "data": {
      "text/html": [
       "<div>\n",
       "<style scoped>\n",
       "    .dataframe tbody tr th:only-of-type {\n",
       "        vertical-align: middle;\n",
       "    }\n",
       "\n",
       "    .dataframe tbody tr th {\n",
       "        vertical-align: top;\n",
       "    }\n",
       "\n",
       "    .dataframe thead th {\n",
       "        text-align: right;\n",
       "    }\n",
       "</style>\n",
       "<table border=\"1\" class=\"dataframe\">\n",
       "  <thead>\n",
       "    <tr style=\"text-align: right;\">\n",
       "      <th></th>\n",
       "      <th>Agent_ID</th>\n",
       "      <th>Queue_Time(Secs)</th>\n",
       "      <th>Time</th>\n",
       "      <th>Call_Seconds (s)</th>\n",
       "    </tr>\n",
       "  </thead>\n",
       "  <tbody>\n",
       "    <tr>\n",
       "      <th>count</th>\n",
       "      <td>8.379000e+04</td>\n",
       "      <td>117988.000000</td>\n",
       "      <td>117988.000000</td>\n",
       "      <td>117988.000000</td>\n",
       "    </tr>\n",
       "    <tr>\n",
       "      <th>mean</th>\n",
       "      <td>1.000034e+06</td>\n",
       "      <td>52.168051</td>\n",
       "      <td>13.701792</td>\n",
       "      <td>139.532147</td>\n",
       "    </tr>\n",
       "    <tr>\n",
       "      <th>std</th>\n",
       "      <td>1.820655e+01</td>\n",
       "      <td>46.154871</td>\n",
       "      <td>3.234274</td>\n",
       "      <td>158.512450</td>\n",
       "    </tr>\n",
       "    <tr>\n",
       "      <th>min</th>\n",
       "      <td>1.000001e+06</td>\n",
       "      <td>0.000000</td>\n",
       "      <td>9.000000</td>\n",
       "      <td>0.000000</td>\n",
       "    </tr>\n",
       "    <tr>\n",
       "      <th>25%</th>\n",
       "      <td>1.000019e+06</td>\n",
       "      <td>8.000000</td>\n",
       "      <td>11.000000</td>\n",
       "      <td>0.000000</td>\n",
       "    </tr>\n",
       "    <tr>\n",
       "      <th>50%</th>\n",
       "      <td>1.000034e+06</td>\n",
       "      <td>40.000000</td>\n",
       "      <td>13.000000</td>\n",
       "      <td>115.000000</td>\n",
       "    </tr>\n",
       "    <tr>\n",
       "      <th>75%</th>\n",
       "      <td>1.000050e+06</td>\n",
       "      <td>103.000000</td>\n",
       "      <td>16.000000</td>\n",
       "      <td>202.250000</td>\n",
       "    </tr>\n",
       "    <tr>\n",
       "      <th>80%</th>\n",
       "      <td>1.000053e+06</td>\n",
       "      <td>115.000000</td>\n",
       "      <td>17.000000</td>\n",
       "      <td>229.000000</td>\n",
       "    </tr>\n",
       "    <tr>\n",
       "      <th>90%</th>\n",
       "      <td>1.000059e+06</td>\n",
       "      <td>120.000000</td>\n",
       "      <td>19.000000</td>\n",
       "      <td>316.000000</td>\n",
       "    </tr>\n",
       "    <tr>\n",
       "      <th>95%</th>\n",
       "      <td>1.000062e+06</td>\n",
       "      <td>120.000000</td>\n",
       "      <td>19.000000</td>\n",
       "      <td>411.000000</td>\n",
       "    </tr>\n",
       "    <tr>\n",
       "      <th>99%</th>\n",
       "      <td>1.000065e+06</td>\n",
       "      <td>120.000000</td>\n",
       "      <td>20.000000</td>\n",
       "      <td>695.000000</td>\n",
       "    </tr>\n",
       "    <tr>\n",
       "      <th>max</th>\n",
       "      <td>1.000065e+06</td>\n",
       "      <td>122.000000</td>\n",
       "      <td>21.000000</td>\n",
       "      <td>3872.000000</td>\n",
       "    </tr>\n",
       "  </tbody>\n",
       "</table>\n",
       "</div>"
      ],
      "text/plain": [
       "           Agent_ID  Queue_Time(Secs)           Time  Call_Seconds (s)\n",
       "count  8.379000e+04     117988.000000  117988.000000     117988.000000\n",
       "mean   1.000034e+06         52.168051      13.701792        139.532147\n",
       "std    1.820655e+01         46.154871       3.234274        158.512450\n",
       "min    1.000001e+06          0.000000       9.000000          0.000000\n",
       "25%    1.000019e+06          8.000000      11.000000          0.000000\n",
       "50%    1.000034e+06         40.000000      13.000000        115.000000\n",
       "75%    1.000050e+06        103.000000      16.000000        202.250000\n",
       "80%    1.000053e+06        115.000000      17.000000        229.000000\n",
       "90%    1.000059e+06        120.000000      19.000000        316.000000\n",
       "95%    1.000062e+06        120.000000      19.000000        411.000000\n",
       "99%    1.000065e+06        120.000000      20.000000        695.000000\n",
       "max    1.000065e+06        122.000000      21.000000       3872.000000"
      ]
     },
     "execution_count": 143,
     "metadata": {},
     "output_type": "execute_result"
    }
   ],
   "source": [
    "# looking outlier\n",
    "call_df.describe(percentiles=[0.25,0.5,.75,.80,.90,.95,.99])"
   ]
  },
  {
   "cell_type": "code",
   "execution_count": 148,
   "id": "3758b339",
   "metadata": {},
   "outputs": [
    {
     "data": {
      "image/png": "[encoded data removed]",
      "text/plain": [
       "<Figure size 360x504 with 1 Axes>"
      ]
     },
     "metadata": {
      "needs_background": "light"
     },
     "output_type": "display_data"
    }
   ],
   "source": [
    "# boxplot of call duration \n",
    "call_df[\"Call_Seconds (s)\"].plot.box(figsize=[5,7])\n",
    "plt.show()"
   ]
  },
  {
   "cell_type": "markdown",
   "id": "68e9a075",
   "metadata": {},
   "source": [
    "- outlier call durations present in the data, beyond ~2500(41min)"
   ]
  },
  {
   "cell_type": "code",
   "execution_count": 182,
   "id": "20b11493",
   "metadata": {},
   "outputs": [
    {
     "data": {
      "text/html": [
       "<div>\n",
       "<style scoped>\n",
       "    .dataframe tbody tr th:only-of-type {\n",
       "        vertical-align: middle;\n",
       "    }\n",
       "\n",
       "    .dataframe tbody tr th {\n",
       "        vertical-align: top;\n",
       "    }\n",
       "\n",
       "    .dataframe thead th {\n",
       "        text-align: right;\n",
       "    }\n",
       "</style>\n",
       "<table border=\"1\" class=\"dataframe\">\n",
       "  <thead>\n",
       "    <tr style=\"text-align: right;\">\n",
       "      <th></th>\n",
       "      <th>Agent_Name</th>\n",
       "      <th>Agent_ID</th>\n",
       "      <th>Customer_Phone_No</th>\n",
       "      <th>Queue_Time(Secs)</th>\n",
       "      <th>Date_&amp;_Time</th>\n",
       "      <th>Time</th>\n",
       "      <th>Time_Bucket</th>\n",
       "      <th>Duration(hh:mm:ss)</th>\n",
       "      <th>Call_Seconds (s)</th>\n",
       "      <th>Call_Status</th>\n",
       "      <th>Ringing</th>\n",
       "      <th>IVR _Duration</th>\n",
       "    </tr>\n",
       "  </thead>\n",
       "  <tbody>\n",
       "    <tr>\n",
       "      <th>29369</th>\n",
       "      <td>Executives 10</td>\n",
       "      <td>1000010.0</td>\n",
       "      <td>98797XXXXX</td>\n",
       "      <td>38</td>\n",
       "      <td>2022-01-07</td>\n",
       "      <td>12.0</td>\n",
       "      <td>12_13</td>\n",
       "      <td>0:43:29</td>\n",
       "      <td>2609.0</td>\n",
       "      <td>answered</td>\n",
       "      <td>YES</td>\n",
       "      <td>0:00:22</td>\n",
       "    </tr>\n",
       "    <tr>\n",
       "      <th>30191</th>\n",
       "      <td>Executives 63</td>\n",
       "      <td>1000063.0</td>\n",
       "      <td>98760XXXXX</td>\n",
       "      <td>6</td>\n",
       "      <td>2022-01-07</td>\n",
       "      <td>13.0</td>\n",
       "      <td>13_14</td>\n",
       "      <td>0:48:33</td>\n",
       "      <td>2913.0</td>\n",
       "      <td>answered</td>\n",
       "      <td>YES</td>\n",
       "      <td>0:00:15</td>\n",
       "    </tr>\n",
       "    <tr>\n",
       "      <th>49457</th>\n",
       "      <td>Executives 10</td>\n",
       "      <td>1000010.0</td>\n",
       "      <td>79084XXXXX</td>\n",
       "      <td>4</td>\n",
       "      <td>2022-01-11</td>\n",
       "      <td>17.0</td>\n",
       "      <td>17_18</td>\n",
       "      <td>1:04:32</td>\n",
       "      <td>3872.0</td>\n",
       "      <td>answered</td>\n",
       "      <td>YES</td>\n",
       "      <td>0:00:24</td>\n",
       "    </tr>\n",
       "    <tr>\n",
       "      <th>49844</th>\n",
       "      <td>Executives 43</td>\n",
       "      <td>1000043.0</td>\n",
       "      <td>98961XXXXX</td>\n",
       "      <td>13</td>\n",
       "      <td>2022-01-11</td>\n",
       "      <td>18.0</td>\n",
       "      <td>18_19</td>\n",
       "      <td>0:52:29</td>\n",
       "      <td>3149.0</td>\n",
       "      <td>answered</td>\n",
       "      <td>YES</td>\n",
       "      <td>0:00:14</td>\n",
       "    </tr>\n",
       "    <tr>\n",
       "      <th>51284</th>\n",
       "      <td>Executives 3</td>\n",
       "      <td>1000003.0</td>\n",
       "      <td>99046XXXXX</td>\n",
       "      <td>95</td>\n",
       "      <td>2022-01-12</td>\n",
       "      <td>10.0</td>\n",
       "      <td>10_11</td>\n",
       "      <td>0:47:48</td>\n",
       "      <td>2868.0</td>\n",
       "      <td>answered</td>\n",
       "      <td>YES</td>\n",
       "      <td>0:00:13</td>\n",
       "    </tr>\n",
       "    <tr>\n",
       "      <th>52597</th>\n",
       "      <td>Executives 5</td>\n",
       "      <td>1000005.0</td>\n",
       "      <td>98800XXXXX</td>\n",
       "      <td>24</td>\n",
       "      <td>2022-01-12</td>\n",
       "      <td>13.0</td>\n",
       "      <td>13_14</td>\n",
       "      <td>0:53:05</td>\n",
       "      <td>3185.0</td>\n",
       "      <td>answered</td>\n",
       "      <td>YES</td>\n",
       "      <td>0:00:13</td>\n",
       "    </tr>\n",
       "    <tr>\n",
       "      <th>91887</th>\n",
       "      <td>Executives 39</td>\n",
       "      <td>1000039.0</td>\n",
       "      <td>97648XXXXX</td>\n",
       "      <td>108</td>\n",
       "      <td>2022-01-17</td>\n",
       "      <td>18.0</td>\n",
       "      <td>18_19</td>\n",
       "      <td>0:53:39</td>\n",
       "      <td>3219.0</td>\n",
       "      <td>answered</td>\n",
       "      <td>YES</td>\n",
       "      <td>0:00:24</td>\n",
       "    </tr>\n",
       "    <tr>\n",
       "      <th>117046</th>\n",
       "      <td>Executives 12</td>\n",
       "      <td>1000012.0</td>\n",
       "      <td>73888XXXXX</td>\n",
       "      <td>26</td>\n",
       "      <td>2022-01-23</td>\n",
       "      <td>16.0</td>\n",
       "      <td>16_17</td>\n",
       "      <td>0:44:02</td>\n",
       "      <td>2642.0</td>\n",
       "      <td>answered</td>\n",
       "      <td>YES</td>\n",
       "      <td>0:00:16</td>\n",
       "    </tr>\n",
       "  </tbody>\n",
       "</table>\n",
       "</div>"
      ],
      "text/plain": [
       "           Agent_Name   Agent_ID Customer_Phone_No  Queue_Time(Secs)  \\\n",
       "29369   Executives 10  1000010.0        98797XXXXX                38   \n",
       "30191   Executives 63  1000063.0        98760XXXXX                 6   \n",
       "49457   Executives 10  1000010.0        79084XXXXX                 4   \n",
       "49844   Executives 43  1000043.0        98961XXXXX                13   \n",
       "51284    Executives 3  1000003.0        99046XXXXX                95   \n",
       "52597    Executives 5  1000005.0        98800XXXXX                24   \n",
       "91887   Executives 39  1000039.0        97648XXXXX               108   \n",
       "117046  Executives 12  1000012.0        73888XXXXX                26   \n",
       "\n",
       "       Date_&_Time  Time Time_Bucket Duration(hh:mm:ss)  Call_Seconds (s)  \\\n",
       "29369   2022-01-07  12.0       12_13            0:43:29            2609.0   \n",
       "30191   2022-01-07  13.0       13_14            0:48:33            2913.0   \n",
       "49457   2022-01-11  17.0       17_18            1:04:32            3872.0   \n",
       "49844   2022-01-11  18.0       18_19            0:52:29            3149.0   \n",
       "51284   2022-01-12  10.0       10_11            0:47:48            2868.0   \n",
       "52597   2022-01-12  13.0       13_14            0:53:05            3185.0   \n",
       "91887   2022-01-17  18.0       18_19            0:53:39            3219.0   \n",
       "117046  2022-01-23  16.0       16_17            0:44:02            2642.0   \n",
       "\n",
       "       Call_Status Ringing IVR _Duration  \n",
       "29369     answered     YES       0:00:22  \n",
       "30191     answered     YES       0:00:15  \n",
       "49457     answered     YES       0:00:24  \n",
       "49844     answered     YES       0:00:14  \n",
       "51284     answered     YES       0:00:13  \n",
       "52597     answered     YES       0:00:13  \n",
       "91887     answered     YES       0:00:24  \n",
       "117046    answered     YES       0:00:16  "
      ]
     },
     "execution_count": 182,
     "metadata": {},
     "output_type": "execute_result"
    }
   ],
   "source": [
    "# looking outlier values\n",
    "call_df[call_df[\"Call_Seconds (s)\"]>2500]"
   ]
  },
  {
   "cell_type": "code",
   "execution_count": 186,
   "id": "0fad2006",
   "metadata": {},
   "outputs": [],
   "source": [
    "x1 = call_df[call_df[\"Call_Seconds (s)\"]>2500]\n",
    "x2 = call_df[call_df[\"Call_Seconds (s)\"]<2500]"
   ]
  },
  {
   "cell_type": "code",
   "execution_count": 187,
   "id": "d1ba3ca2",
   "metadata": {},
   "outputs": [
    {
     "data": {
      "image/png": "[encoded data removed]",
      "text/plain": [
       "<Figure size 720x504 with 1 Axes>"
      ]
     },
     "metadata": {
      "needs_background": "light"
     },
     "output_type": "display_data"
    }
   ],
   "source": [
    "plt.figure(figsize=[10,7])\n",
    "sns.distplot(x1[\"Time\"],bins=12)\n",
    "plt.show()"
   ]
  },
  {
   "cell_type": "code",
   "execution_count": 188,
   "id": "b5a232b9",
   "metadata": {},
   "outputs": [
    {
     "data": {
      "image/png": "[encoded data removed]",
      "text/plain": [
       "<Figure size 720x504 with 1 Axes>"
      ]
     },
     "metadata": {
      "needs_background": "light"
     },
     "output_type": "display_data"
    }
   ],
   "source": [
    "plt.figure(figsize=[10,7])\n",
    "sns.distplot(x2[\"Time\"],bins=12)\n",
    "plt.show()"
   ]
  },
  {
   "cell_type": "code",
   "execution_count": 198,
   "id": "9ec7cf7b",
   "metadata": {},
   "outputs": [
    {
     "data": {
      "image/png": "[encoded data removed]",
      "text/plain": [
       "<Figure size 720x504 with 2 Axes>"
      ]
     },
     "metadata": {
      "needs_background": "light"
     },
     "output_type": "display_data"
    }
   ],
   "source": [
    "fig, (ax1, ax2) = plt.subplots(1,2, sharey=True,figsize=[10,7])\n",
    "ax1.boxplot(x1[\"Time\"])\n",
    "\n",
    "ax2.boxplot(x2[\"Time\"])\n",
    "plt.show()"
   ]
  },
  {
   "cell_type": "markdown",
   "id": "2eb2c1d0",
   "metadata": {},
   "source": [
    "- leaving outliers as it is for the moment moving further analysis"
   ]
  },
  {
   "cell_type": "markdown",
   "id": "6ef4fefc",
   "metadata": {},
   "source": [
    "# 3. STANDARDISING AND FIXING INVALID VALUES"
   ]
  },
  {
   "cell_type": "code",
   "execution_count": 199,
   "id": "a9c7705b",
   "metadata": {},
   "outputs": [
    {
     "data": {
      "text/html": [
       "<div>\n",
       "<style scoped>\n",
       "    .dataframe tbody tr th:only-of-type {\n",
       "        vertical-align: middle;\n",
       "    }\n",
       "\n",
       "    .dataframe tbody tr th {\n",
       "        vertical-align: top;\n",
       "    }\n",
       "\n",
       "    .dataframe thead th {\n",
       "        text-align: right;\n",
       "    }\n",
       "</style>\n",
       "<table border=\"1\" class=\"dataframe\">\n",
       "  <thead>\n",
       "    <tr style=\"text-align: right;\">\n",
       "      <th></th>\n",
       "      <th>Agent_Name</th>\n",
       "      <th>Agent_ID</th>\n",
       "      <th>Customer_Phone_No</th>\n",
       "      <th>Queue_Time(Secs)</th>\n",
       "      <th>Date_&amp;_Time</th>\n",
       "      <th>Time</th>\n",
       "      <th>Time_Bucket</th>\n",
       "      <th>Duration(hh:mm:ss)</th>\n",
       "      <th>Call_Seconds (s)</th>\n",
       "      <th>Call_Status</th>\n",
       "      <th>Ringing</th>\n",
       "      <th>IVR _Duration</th>\n",
       "    </tr>\n",
       "  </thead>\n",
       "  <tbody>\n",
       "    <tr>\n",
       "      <th>0</th>\n",
       "      <td>Executives 42</td>\n",
       "      <td>1000042.0</td>\n",
       "      <td>98502XXXXX</td>\n",
       "      <td>2</td>\n",
       "      <td>2022-01-01</td>\n",
       "      <td>9.0</td>\n",
       "      <td>9_10</td>\n",
       "      <td>0:01:36</td>\n",
       "      <td>96.0</td>\n",
       "      <td>answered</td>\n",
       "      <td>YES</td>\n",
       "      <td>0:00:16</td>\n",
       "    </tr>\n",
       "    <tr>\n",
       "      <th>1</th>\n",
       "      <td>Executives 4</td>\n",
       "      <td>1000004.0</td>\n",
       "      <td>80595XXXXX</td>\n",
       "      <td>0</td>\n",
       "      <td>2022-01-01</td>\n",
       "      <td>9.0</td>\n",
       "      <td>9_10</td>\n",
       "      <td>0:02:20</td>\n",
       "      <td>140.0</td>\n",
       "      <td>answered</td>\n",
       "      <td>YES</td>\n",
       "      <td>0:00:26</td>\n",
       "    </tr>\n",
       "    <tr>\n",
       "      <th>2</th>\n",
       "      <td>Executives 65</td>\n",
       "      <td>1000065.0</td>\n",
       "      <td>70202XXXXX</td>\n",
       "      <td>0</td>\n",
       "      <td>2022-01-01</td>\n",
       "      <td>9.0</td>\n",
       "      <td>9_10</td>\n",
       "      <td>0:01:25</td>\n",
       "      <td>85.0</td>\n",
       "      <td>answered</td>\n",
       "      <td>YES</td>\n",
       "      <td>0:00:16</td>\n",
       "    </tr>\n",
       "    <tr>\n",
       "      <th>3</th>\n",
       "      <td>Executives 55</td>\n",
       "      <td>1000055.0</td>\n",
       "      <td>96104XXXXX</td>\n",
       "      <td>1</td>\n",
       "      <td>2022-01-01</td>\n",
       "      <td>9.0</td>\n",
       "      <td>9_10</td>\n",
       "      <td>0:01:31</td>\n",
       "      <td>91.0</td>\n",
       "      <td>answered</td>\n",
       "      <td>YES</td>\n",
       "      <td>0:00:25</td>\n",
       "    </tr>\n",
       "    <tr>\n",
       "      <th>4</th>\n",
       "      <td>Executives 21</td>\n",
       "      <td>1000021.0</td>\n",
       "      <td>82001XXXXX</td>\n",
       "      <td>0</td>\n",
       "      <td>2022-01-01</td>\n",
       "      <td>9.0</td>\n",
       "      <td>9_10</td>\n",
       "      <td>0:02:45</td>\n",
       "      <td>165.0</td>\n",
       "      <td>answered</td>\n",
       "      <td>YES</td>\n",
       "      <td>0:00:23</td>\n",
       "    </tr>\n",
       "  </tbody>\n",
       "</table>\n",
       "</div>"
      ],
      "text/plain": [
       "      Agent_Name   Agent_ID Customer_Phone_No  Queue_Time(Secs) Date_&_Time  \\\n",
       "0  Executives 42  1000042.0        98502XXXXX                 2  2022-01-01   \n",
       "1   Executives 4  1000004.0        80595XXXXX                 0  2022-01-01   \n",
       "2  Executives 65  1000065.0        70202XXXXX                 0  2022-01-01   \n",
       "3  Executives 55  1000055.0        96104XXXXX                 1  2022-01-01   \n",
       "4  Executives 21  1000021.0        82001XXXXX                 0  2022-01-01   \n",
       "\n",
       "   Time Time_Bucket Duration(hh:mm:ss)  Call_Seconds (s) Call_Status Ringing  \\\n",
       "0   9.0        9_10            0:01:36              96.0    answered     YES   \n",
       "1   9.0        9_10            0:02:20             140.0    answered     YES   \n",
       "2   9.0        9_10            0:01:25              85.0    answered     YES   \n",
       "3   9.0        9_10            0:01:31              91.0    answered     YES   \n",
       "4   9.0        9_10            0:02:45             165.0    answered     YES   \n",
       "\n",
       "  IVR _Duration  \n",
       "0       0:00:16  \n",
       "1       0:00:26  \n",
       "2       0:00:16  \n",
       "3       0:00:25  \n",
       "4       0:00:23  "
      ]
     },
     "execution_count": 199,
     "metadata": {},
     "output_type": "execute_result"
    }
   ],
   "source": [
    "# overview of data\n",
    "call_df.head()"
   ]
  },
  {
   "cell_type": "code",
   "execution_count": 207,
   "id": "383e2787",
   "metadata": {},
   "outputs": [
    {
     "data": {
      "text/plain": [
       "array(['Executives 1', 'Executives 10', 'Executives 11', 'Executives 12',\n",
       "       'Executives 13', 'Executives 14', 'Executives 15', 'Executives 16',\n",
       "       'Executives 17', 'Executives 18', 'Executives 19', 'Executives 2',\n",
       "       'Executives 20', 'Executives 21', 'Executives 22', 'Executives 23',\n",
       "       'Executives 24', 'Executives 25', 'Executives 26', 'Executives 27',\n",
       "       'Executives 28', 'Executives 29', 'Executives 3', 'Executives 30',\n",
       "       'Executives 31', 'Executives 32', 'Executives 33', 'Executives 34',\n",
       "       'Executives 35', 'Executives 36', 'Executives 37', 'Executives 38',\n",
       "       'Executives 39', 'Executives 4', 'Executives 40', 'Executives 41',\n",
       "       'Executives 42', 'Executives 43', 'Executives 44', 'Executives 45',\n",
       "       'Executives 46', 'Executives 47', 'Executives 48', 'Executives 49',\n",
       "       'Executives 5', 'Executives 50', 'Executives 51', 'Executives 52',\n",
       "       'Executives 53', 'Executives 54', 'Executives 55', 'Executives 56',\n",
       "       'Executives 57', 'Executives 58', 'Executives 59', 'Executives 6',\n",
       "       'Executives 60', 'Executives 61', 'Executives 62', 'Executives 63',\n",
       "       'Executives 64', 'Executives 65', 'Executives 7', 'Executives 8',\n",
       "       'Executives 9', nan], dtype=object)"
      ]
     },
     "execution_count": 207,
     "metadata": {},
     "output_type": "execute_result"
    }
   ],
   "source": [
    "# looking values of Agent_Name\n",
    "call_df[\"Agent_Name\"].sort_values().unique()"
   ]
  },
  {
   "cell_type": "markdown",
   "id": "1417be5b",
   "metadata": {},
   "source": [
    "- total **65** Executives are present "
   ]
  },
  {
   "cell_type": "code",
   "execution_count": 209,
   "id": "bb7e3f35",
   "metadata": {},
   "outputs": [
    {
     "data": {
      "text/plain": [
       "array(['9_10', '10_11', '11_12', '12_13', '13_14', '14_15', '15_16',\n",
       "       '16_17', '17_18', '18_19', '19_20', '20_21'], dtype=object)"
      ]
     },
     "execution_count": 209,
     "metadata": {},
     "output_type": "execute_result"
    }
   ],
   "source": [
    "# looking values of time bucket\n",
    "call_df[\"Time_Bucket\"].unique()"
   ]
  },
  {
   "cell_type": "markdown",
   "id": "5743213a",
   "metadata": {},
   "source": [
    "- all values are ok"
   ]
  },
  {
   "cell_type": "code",
   "execution_count": 212,
   "id": "038b40b6",
   "metadata": {},
   "outputs": [
    {
     "data": {
      "text/plain": [
       "answered    82452\n",
       "abandon     34403\n",
       "transfer     1133\n",
       "Name: Call_Status, dtype: int64"
      ]
     },
     "execution_count": 212,
     "metadata": {},
     "output_type": "execute_result"
    }
   ],
   "source": [
    "# looking call status values\n",
    "call_df[\"Call_Status\"].value_counts()"
   ]
  },
  {
   "cell_type": "code",
   "execution_count": 213,
   "id": "ea926225",
   "metadata": {},
   "outputs": [
    {
     "data": {
      "text/plain": [
       "YES    117988\n",
       "Name: Ringing, dtype: int64"
      ]
     },
     "execution_count": 213,
     "metadata": {},
     "output_type": "execute_result"
    }
   ],
   "source": [
    "call_df[\"Ringing\"].value_counts()"
   ]
  },
  {
   "cell_type": "markdown",
   "id": "82092dca",
   "metadata": {},
   "source": [
    "- all values of ringing column is \"yes\""
   ]
  },
  {
   "cell_type": "markdown",
   "id": "9418e8c9",
   "metadata": {},
   "source": [
    "### Dropping duplicate rows"
   ]
  },
  {
   "cell_type": "code",
   "execution_count": 214,
   "id": "a2fa6b06",
   "metadata": {},
   "outputs": [
    {
     "data": {
      "text/plain": [
       "941"
      ]
     },
     "execution_count": 214,
     "metadata": {},
     "output_type": "execute_result"
    }
   ],
   "source": [
    "# looking duplicate rows\n",
    "call_df.duplicated().sum()"
   ]
  },
  {
   "cell_type": "code",
   "execution_count": 216,
   "id": "900ddebc",
   "metadata": {},
   "outputs": [
    {
     "data": {
      "text/plain": [
       "(117047, 12)"
      ]
     },
     "execution_count": 216,
     "metadata": {},
     "output_type": "execute_result"
    }
   ],
   "source": [
    "# drop\n",
    "call_df = call_df.drop_duplicates()\n",
    "call_df.shape"
   ]
  },
  {
   "cell_type": "markdown",
   "id": "0dc31e7c",
   "metadata": {},
   "source": [
    "- droped all 941 duplicate rows\n",
    "- final cleaned data have \n",
    "  - **rows**: 117047\n",
    "  - **columns**: 12"
   ]
  },
  {
   "cell_type": "code",
   "execution_count": null,
   "id": "d3ccef90",
   "metadata": {},
   "outputs": [],
   "source": []
  }
 ],
 "metadata": {
  "kernelspec": {
   "display_name": "Python 3 (ipykernel)",
   "language": "python",
   "name": "python3"
  },
  "language_info": {
   "codemirror_mode": {
    "name": "ipython",
    "version": 3
   },
   "file_extension": ".py",
   "mimetype": "text/x-python",
   "name": "python",
   "nbconvert_exporter": "python",
   "pygments_lexer": "ipython3",
   "version": "3.9.12"
  }
 },
 "nbformat": 4,
 "nbformat_minor": 5
}
